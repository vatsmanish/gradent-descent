{
 "cells": [
  {
   "cell_type": "code",
   "execution_count": 2,
   "metadata": {},
   "outputs": [],
   "source": [
    "import pandas as pd\n",
    "import numpy as np\n",
    "import math\n",
    "import os\n",
    "import matplotlib.pyplot as plt\n",
    "os.chdir(\"C:\\\\Users\\\\MANDY\\\\Desktop\\\\dataset\")\n",
    "car=pd.read_csv('cars.csv')"
   ]
  },
  {
   "cell_type": "code",
   "execution_count": null,
   "metadata": {},
   "outputs": [],
   "source": []
  },
  {
   "cell_type": "code",
   "execution_count": null,
   "metadata": {},
   "outputs": [],
   "source": []
  },
  {
   "cell_type": "code",
   "execution_count": null,
   "metadata": {},
   "outputs": [],
   "source": [
    "%%time\n",
    "a = 0.0005  #learning rate\n",
    "cars.columns.=n\n",
    "theta = np.ones(n)\n",
    "cost_list = []\n",
    "for itr in range(100000):\n",
    "    \n",
    "    dev_list = []\n",
    "    for k in range(n):\n",
    "        dev_sum = 0\n",
    "        for i in range(m):\n",
    "            hypo_i = 0\n",
    "            for j in range(n):\n",
    "                hypo_i += theta[j]*X[i,j]\n",
    "            dev_i = (hypo_i - y[i])*X[i,k]\n",
    "            dev_sum += dev_i\n",
    "        dev_sum = (1/m)*dev_sum\n",
    "dev_list.append(dev_sum)\n",
    "\n",
    "    \n",
    "theta = theta - a*np.array(dev_list)\n",
    "    \n",
    "cost_val = cost_loop(theta)\n",
    "cost_list.append(cost_val)"
   ]
  }
 ],
 "metadata": {
  "kernelspec": {
   "display_name": "Python 3",
   "language": "python",
   "name": "python3"
  },
  "language_info": {
   "codemirror_mode": {
    "name": "ipython",
    "version": 3
   },
   "file_extension": ".py",
   "mimetype": "text/x-python",
   "name": "python",
   "nbconvert_exporter": "python",
   "pygments_lexer": "ipython3",
   "version": "3.6.4"
  }
 },
 "nbformat": 4,
 "nbformat_minor": 2
}
