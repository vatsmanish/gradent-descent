{
 "cells": [
  {
   "cell_type": "markdown",
   "metadata": {},
   "source": [
    "## D19018"
   ]
  },
  {
   "cell_type": "markdown",
   "metadata": {},
   "source": [
    "##  MANISH KUMAR"
   ]
  },
  {
   "cell_type": "markdown",
   "metadata": {},
   "source": [
    "## Objective :-  time  and solutoin comarision of gradient descent alogritham  and close form solution "
   ]
  },
  {
   "cell_type": "code",
   "execution_count": 213,
   "metadata": {},
   "outputs": [],
   "source": [
    "import numpy as np\n",
    "import os\n",
    "import math\n",
    "import time\n",
    "import pandas as pd\n",
    "import matplotlib.pyplot as plt"
   ]
  },
  {
   "cell_type": "code",
   "execution_count": 214,
   "metadata": {},
   "outputs": [],
   "source": [
    "os.chdir(\"C:\\\\Users\\\\MANDY\\\\Desktop\\\\dataset\")\n",
    "cars=pd.read_csv('cars.csv')"
   ]
  },
  {
   "cell_type": "code",
   "execution_count": 215,
   "metadata": {},
   "outputs": [],
   "source": [
    "import statsmodels.api as stm\n",
    "import math"
   ]
  },
  {
   "cell_type": "code",
   "execution_count": 216,
   "metadata": {},
   "outputs": [],
   "source": [
    "X = cars[['Weight', 'Horsepower', 'Displacement','Cylinders','Acceleration']]\n",
    "X = stm.add_constant(X)\n",
    "y = cars['MPG']"
   ]
  },
  {
   "cell_type": "code",
   "execution_count": 217,
   "metadata": {},
   "outputs": [
    {
     "data": {
      "text/html": [
       "<div>\n",
       "<style scoped>\n",
       "    .dataframe tbody tr th:only-of-type {\n",
       "        vertical-align: middle;\n",
       "    }\n",
       "\n",
       "    .dataframe tbody tr th {\n",
       "        vertical-align: top;\n",
       "    }\n",
       "\n",
       "    .dataframe thead th {\n",
       "        text-align: right;\n",
       "    }\n",
       "</style>\n",
       "<table border=\"1\" class=\"dataframe\">\n",
       "  <thead>\n",
       "    <tr style=\"text-align: right;\">\n",
       "      <th></th>\n",
       "      <th>const</th>\n",
       "      <th>Weight</th>\n",
       "      <th>Horsepower</th>\n",
       "      <th>Displacement</th>\n",
       "      <th>Cylinders</th>\n",
       "      <th>Acceleration</th>\n",
       "    </tr>\n",
       "  </thead>\n",
       "  <tbody>\n",
       "    <tr>\n",
       "      <th>0</th>\n",
       "      <td>1.0</td>\n",
       "      <td>3504</td>\n",
       "      <td>130</td>\n",
       "      <td>307.0</td>\n",
       "      <td>8</td>\n",
       "      <td>12.0</td>\n",
       "    </tr>\n",
       "    <tr>\n",
       "      <th>1</th>\n",
       "      <td>1.0</td>\n",
       "      <td>3693</td>\n",
       "      <td>165</td>\n",
       "      <td>350.0</td>\n",
       "      <td>8</td>\n",
       "      <td>11.5</td>\n",
       "    </tr>\n",
       "    <tr>\n",
       "      <th>2</th>\n",
       "      <td>1.0</td>\n",
       "      <td>3436</td>\n",
       "      <td>150</td>\n",
       "      <td>318.0</td>\n",
       "      <td>8</td>\n",
       "      <td>11.0</td>\n",
       "    </tr>\n",
       "    <tr>\n",
       "      <th>3</th>\n",
       "      <td>1.0</td>\n",
       "      <td>3433</td>\n",
       "      <td>150</td>\n",
       "      <td>304.0</td>\n",
       "      <td>8</td>\n",
       "      <td>12.0</td>\n",
       "    </tr>\n",
       "    <tr>\n",
       "      <th>4</th>\n",
       "      <td>1.0</td>\n",
       "      <td>3449</td>\n",
       "      <td>140</td>\n",
       "      <td>302.0</td>\n",
       "      <td>8</td>\n",
       "      <td>10.5</td>\n",
       "    </tr>\n",
       "  </tbody>\n",
       "</table>\n",
       "</div>"
      ],
      "text/plain": [
       "   const  Weight  Horsepower  Displacement  Cylinders  Acceleration\n",
       "0    1.0    3504         130         307.0          8          12.0\n",
       "1    1.0    3693         165         350.0          8          11.5\n",
       "2    1.0    3436         150         318.0          8          11.0\n",
       "3    1.0    3433         150         304.0          8          12.0\n",
       "4    1.0    3449         140         302.0          8          10.5"
      ]
     },
     "execution_count": 217,
     "metadata": {},
     "output_type": "execute_result"
    }
   ],
   "source": [
    "X.head()"
   ]
  },
  {
   "cell_type": "code",
   "execution_count": 218,
   "metadata": {},
   "outputs": [
    {
     "data": {
      "text/plain": [
       "const           44.121814\n",
       "Weight          -0.005457\n",
       "Horsepower      -0.035866\n",
       "Displacement    -0.002630\n",
       "Cylinders       -0.286299\n",
       "Acceleration     0.063229\n",
       "dtype: float64"
      ]
     },
     "execution_count": 218,
     "metadata": {},
     "output_type": "execute_result"
    }
   ],
   "source": [
    "model = stm.OLS(y,X).fit()\n",
    "model.params"
   ]
  },
  {
   "cell_type": "markdown",
   "metadata": {},
   "source": [
    "# Closed form solution"
   ]
  },
  {
   "cell_type": "code",
   "execution_count": 222,
   "metadata": {},
   "outputs": [],
   "source": [
    "cars1 = cars[['MPG','Weight', 'Horsepower', 'Displacement','Cylinders','Acceleration']].apply(lambda x: (x - np.min(x)) / (np.max(x) - np.min(x)))"
   ]
  },
  {
   "cell_type": "code",
   "execution_count": 223,
   "metadata": {},
   "outputs": [
    {
     "data": {
      "text/html": [
       "<div>\n",
       "<style scoped>\n",
       "    .dataframe tbody tr th:only-of-type {\n",
       "        vertical-align: middle;\n",
       "    }\n",
       "\n",
       "    .dataframe tbody tr th {\n",
       "        vertical-align: top;\n",
       "    }\n",
       "\n",
       "    .dataframe thead th {\n",
       "        text-align: right;\n",
       "    }\n",
       "</style>\n",
       "<table border=\"1\" class=\"dataframe\">\n",
       "  <thead>\n",
       "    <tr style=\"text-align: right;\">\n",
       "      <th></th>\n",
       "      <th>MPG</th>\n",
       "      <th>Weight</th>\n",
       "      <th>Horsepower</th>\n",
       "      <th>Displacement</th>\n",
       "      <th>Cylinders</th>\n",
       "      <th>Acceleration</th>\n",
       "    </tr>\n",
       "  </thead>\n",
       "  <tbody>\n",
       "    <tr>\n",
       "      <th>0</th>\n",
       "      <td>0.386266</td>\n",
       "      <td>0.536150</td>\n",
       "      <td>0.565217</td>\n",
       "      <td>0.617571</td>\n",
       "      <td>1.0</td>\n",
       "      <td>0.238095</td>\n",
       "    </tr>\n",
       "    <tr>\n",
       "      <th>1</th>\n",
       "      <td>0.321888</td>\n",
       "      <td>0.589736</td>\n",
       "      <td>0.717391</td>\n",
       "      <td>0.728682</td>\n",
       "      <td>1.0</td>\n",
       "      <td>0.208333</td>\n",
       "    </tr>\n",
       "    <tr>\n",
       "      <th>2</th>\n",
       "      <td>0.386266</td>\n",
       "      <td>0.516870</td>\n",
       "      <td>0.652174</td>\n",
       "      <td>0.645995</td>\n",
       "      <td>1.0</td>\n",
       "      <td>0.178571</td>\n",
       "    </tr>\n",
       "    <tr>\n",
       "      <th>3</th>\n",
       "      <td>0.343348</td>\n",
       "      <td>0.516019</td>\n",
       "      <td>0.652174</td>\n",
       "      <td>0.609819</td>\n",
       "      <td>1.0</td>\n",
       "      <td>0.238095</td>\n",
       "    </tr>\n",
       "    <tr>\n",
       "      <th>4</th>\n",
       "      <td>0.364807</td>\n",
       "      <td>0.520556</td>\n",
       "      <td>0.608696</td>\n",
       "      <td>0.604651</td>\n",
       "      <td>1.0</td>\n",
       "      <td>0.148810</td>\n",
       "    </tr>\n",
       "  </tbody>\n",
       "</table>\n",
       "</div>"
      ],
      "text/plain": [
       "        MPG    Weight  Horsepower  Displacement  Cylinders  Acceleration\n",
       "0  0.386266  0.536150    0.565217      0.617571        1.0      0.238095\n",
       "1  0.321888  0.589736    0.717391      0.728682        1.0      0.208333\n",
       "2  0.386266  0.516870    0.652174      0.645995        1.0      0.178571\n",
       "3  0.343348  0.516019    0.652174      0.609819        1.0      0.238095\n",
       "4  0.364807  0.520556    0.608696      0.604651        1.0      0.148810"
      ]
     },
     "execution_count": 223,
     "metadata": {},
     "output_type": "execute_result"
    }
   ],
   "source": [
    "cars1.head()"
   ]
  },
  {
   "cell_type": "code",
   "execution_count": 224,
   "metadata": {},
   "outputs": [],
   "source": [
    "cars_scaled2 = cars[['MPG','Weight','Horsepower','Displacement','Cylinders','Acceleration']].apply(lambda x: (x - np.min(x)) / (np.max(x) - np.min(x)))"
   ]
  },
  {
   "cell_type": "code",
   "execution_count": 225,
   "metadata": {},
   "outputs": [],
   "source": [
    "#X and y\n",
    "X = cars_scaled2[['Weight','Horsepower','Displacement','Cylinders','Acceleration']]\n",
    "X = stm.add_constant(X)\n",
    "y = cars_scaled2['MPG']\n",
    "\n",
    "X = X.as_matrix()\n",
    "y = y.as_matrix()\n",
    "y=y.reshape(406,1)"
   ]
  },
  {
   "cell_type": "code",
   "execution_count": 226,
   "metadata": {},
   "outputs": [
    {
     "data": {
      "text/plain": [
       "MPG             0.494662\n",
       "Weight          0.387415\n",
       "Horsepower      0.450129\n",
       "Displacement    0.327596\n",
       "Cylinders       0.495074\n",
       "Acceleration    0.447601\n",
       "dtype: float64"
      ]
     },
     "execution_count": 226,
     "metadata": {},
     "output_type": "execute_result"
    }
   ],
   "source": [
    "cars1.mean()             ##mean of all variable "
   ]
  },
  {
   "cell_type": "code",
   "execution_count": 227,
   "metadata": {},
   "outputs": [
    {
     "data": {
      "text/plain": [
       "MPG             0.180296\n",
       "Weight          0.240149\n",
       "Horsepower      0.176177\n",
       "Displacement    0.271117\n",
       "Cylinders       0.342432\n",
       "Acceleration    0.166867\n",
       "dtype: float64"
      ]
     },
     "execution_count": 227,
     "metadata": {},
     "output_type": "execute_result"
    }
   ],
   "source": [
    "cars1.std()            ## standar deviation of all variable"
   ]
  },
  {
   "cell_type": "code",
   "execution_count": 235,
   "metadata": {},
   "outputs": [
    {
     "name": "stdout",
     "output_type": "stream",
     "text": [
      "0.04688620567321777\n"
     ]
    }
   ],
   "source": [
    "#X and y\n",
    "start=time.time()\n",
    "X = cars_scaled2[['Weight','Horsepower','Displacement','Cylinders','Acceleration']]\n",
    "X = stm.add_constant(X)           #use of stasticsl model\n",
    "y = cars_scaled2['MPG']\n",
    "\n",
    "X = X.as_matrix()                 # matrix declaration\n",
    "y = y.as_matrix()                 # matrix declaration         \n",
    "y=y.reshape(406,1)\n",
    "stop=time.time()\n",
    "print(stop-start)     "
   ]
  },
  {
   "cell_type": "code",
   "execution_count": 229,
   "metadata": {},
   "outputs": [],
   "source": [
    "tX = np.transpose(X)"
   ]
  },
  {
   "cell_type": "code",
   "execution_count": 230,
   "metadata": {},
   "outputs": [
    {
     "data": {
      "text/plain": [
       "array([[ 0.74651644],\n",
       "       [-0.41302691],\n",
       "       [-0.1770198 ],\n",
       "       [-0.0218415 ],\n",
       "       [-0.03071879],\n",
       "       [ 0.02279491]])"
      ]
     },
     "execution_count": 230,
     "metadata": {},
     "output_type": "execute_result"
    }
   ],
   "source": [
    "#Closed form solution for the coefficients\n",
    "np.matmul(np.matmul(np.linalg.inv(np.matmul(tX,X)), tX),y)"
   ]
  },
  {
   "cell_type": "code",
   "execution_count": 231,
   "metadata": {},
   "outputs": [
    {
     "data": {
      "text/plain": [
       "array([ 0.74651644, -0.41302691, -0.1770198 , -0.0218415 , -0.03071879,\n",
       "        0.02279491])"
      ]
     },
     "execution_count": 231,
     "metadata": {},
     "output_type": "execute_result"
    }
   ],
   "source": [
    "# close form model value\n",
    "model = stm.OLS(y,X).fit()\n",
    "model.params"
   ]
  },
  {
   "cell_type": "markdown",
   "metadata": {},
   "source": [
    "## GRADIENT DESCENT FUNCTION WITH SCALED (STANDARDISED)"
   ]
  },
  {
   "cell_type": "code",
   "execution_count": 236,
   "metadata": {},
   "outputs": [
    {
     "name": "stdout",
     "output_type": "stream",
     "text": [
      "5077\n",
      "[[ 0.74435867]\n",
      " [-0.41231484]\n",
      " [-0.17256688]\n",
      " [-0.02807095]\n",
      " [-0.02795456]\n",
      " [ 0.02400844]]\n",
      "5077\n",
      "0.3033485412597656\n"
     ]
    }
   ],
   "source": [
    "#X and y\n",
    "X = cars_scaled2[['Weight','Horsepower','Displacement','Cylinders','Acceleration']]  ## variable name from cars.csv file\n",
    "X = stm.add_constant(X)\n",
    "y = cars_scaled2['MPG']                                ## predictor varaible name\n",
    "start=time.time()\n",
    "Weight0=[]\n",
    "Weight1=[]\n",
    "Weight2=[]\n",
    "Weight3=[]\n",
    "Weight4=[]\n",
    "Weight5=[]\n",
    "delta1=[]\n",
    "X = X.as_matrix()                   \n",
    "y = y.as_matrix()\n",
    "y=y.reshape(406,1)\n",
    "#Initialize the weight vector\n",
    "Weight = np.array([[0],[0],[0],[0],[0],[0]])\n",
    "# Horsepower=np.array([[0],[0]])\n",
    "# Acceleratoin=np.array([[0],[0]])\n",
    "#Fix a atep size\n",
    "alpha = 0.0003\n",
    "delta = 1\n",
    "tolerance = 0.0001\n",
    "count = 0\n",
    "\n",
    "#Optimization\n",
    "while np.sum(delta**2) > tolerance :\n",
    "    delta = np.matmul(np.transpose(X), (y - np.matmul(X,Weight)))\n",
    "#     delta = np.matmul(np.transpose(X), (y - np.matmul(X,Horsepower)))\n",
    "    Weight = Weight - (-2)*alpha*delta\n",
    "    count += 1\n",
    "    Weight0.append(Weight[0])\n",
    "    Weight1.append(Weight[1])\n",
    "    Weight2.append(Weight[2])\n",
    "    Weight3.append(Weight[3])\n",
    "    Weight4.append(Weight[4])\n",
    "    Weight5.append(Weight[5])\n",
    "    delta1.append(np.sum(delta**2))\n",
    "stop=time.time()\n",
    "\n",
    "print(count)\n",
    "print(Weight)\n",
    "print(len(Weight0))\n",
    "print(stop-start)"
   ]
  },
  {
   "cell_type": "code",
   "execution_count": 237,
   "metadata": {},
   "outputs": [
    {
     "data": {
      "image/png": "[encoded data removed]",
      "text/plain": [
       "<matplotlib.figure.Figure at 0x16585054e10>"
      ]
     },
     "metadata": {},
     "output_type": "display_data"
    },
    {
     "data": {
      "image/png": "[encoded data removed]",
      "text/plain": [
       "<matplotlib.figure.Figure at 0x1658606dda0>"
      ]
     },
     "metadata": {},
     "output_type": "display_data"
    }
   ],
   "source": [
    "plt.scatter(np.arange(count),delta1)\n",
    "plt.title('Residual sum of square')\n",
    "plt.xlabel('Weight0')\n",
    "plt.ylabel('count')\n",
    "figsize=(8,10)\n",
    "plt.show()\n",
    "plt.scatter(np.arange(count),Weight0)\n",
    "plt.show()"
   ]
  },
  {
   "cell_type": "code",
   "execution_count": 196,
   "metadata": {},
   "outputs": [
    {
     "name": "stdout",
     "output_type": "stream",
     "text": [
      "13758\n",
      "[[ 0.74340385]\n",
      " [-0.41214801]\n",
      " [-0.17060641]\n",
      " [-0.03053657]\n",
      " [-0.02684362]\n",
      " [ 0.02459496]]\n",
      "13758\n"
     ]
    }
   ],
   "source": [
    "#changing the value of aloha and tolerence\n",
    "X = cars_scaled2[['Weight','Horsepower','Displacement','Cylinders','Acceleration']]\n",
    "X = stm.add_constant(X)\n",
    "y = cars_scaled2['MPG']\n",
    "Weight0=[]\n",
    "Weight1=[]\n",
    "Weight2=[]\n",
    "Weight3=[]\n",
    "Weight4=[]\n",
    "Weight5=[]\n",
    "delta1=[]\n",
    "X = X.as_matrix()\n",
    "y = y.as_matrix()\n",
    "y=y.reshape(406,1)\n",
    "#Initialize the weight vector\n",
    "Weight = np.array([[0],[0],[0],[0],[0],[0]])\n",
    "# Horsepower=np.array([[0],[0]])\n",
    "# Acceleratoin=np.array([[0],[0]])\n",
    "#Fix a atep size\n",
    "alpha = 0.0001\n",
    "delta = 1\n",
    "tolerance = 0.0002\n",
    "count = 0\n",
    "\n",
    "#Optimization\n",
    "while np.sum(delta**2) > tolerance :\n",
    "    delta = np.matmul(np.transpose(X), (y - np.matmul(X,Weight)))\n",
    "#     delta = np.matmul(np.transpose(X), (y - np.matmul(X,Horsepower)))\n",
    "    Weight = Weight - (-2)*alpha*delta\n",
    "    count += 1\n",
    "    Weight0.append(Weight[0])\n",
    "    Weight1.append(Weight[1])\n",
    "    Weight2.append(Weight[2])\n",
    "    Weight3.append(Weight[3])\n",
    "    Weight4.append(Weight[4])\n",
    "    Weight5.append(Weight[5])\n",
    "    delta1.append(np.sum(delta**2))\n",
    "\n",
    "print(count)\n",
    "print(Weight)\n",
    "print(len(Weight1))"
   ]
  },
  {
   "cell_type": "code",
   "execution_count": 199,
   "metadata": {},
   "outputs": [
    {
     "data": {
      "image/png": "[encoded data removed]",
      "text/plain": [
       "<matplotlib.figure.Figure at 0x16584be2cc0>"
      ]
     },
     "metadata": {},
     "output_type": "display_data"
    },
    {
     "data": {
      "image/png": "[encoded data removed]",
      "text/plain": [
       "<matplotlib.figure.Figure at 0x16584be24a8>"
      ]
     },
     "metadata": {},
     "output_type": "display_data"
    },
    {
     "data": {
      "image/png": "[encoded data removed]",
      "text/plain": [
       "<matplotlib.figure.Figure at 0x165849f7dd8>"
      ]
     },
     "metadata": {},
     "output_type": "display_data"
    },
    {
     "data": {
      "image/png": "[encoded data removed]",
      "text/plain": [
       "<matplotlib.figure.Figure at 0x16584af24a8>"
      ]
     },
     "metadata": {},
     "output_type": "display_data"
    },
    {
     "data": {
      "image/png": "[encoded data removed]",
      "text/plain": [
       "<matplotlib.figure.Figure at 0x16584c358d0>"
      ]
     },
     "metadata": {},
     "output_type": "display_data"
    },
    {
     "data": {
      "image/png": "[encoded data removed]",
      "text/plain": [
       "<matplotlib.figure.Figure at 0x16584af2710>"
      ]
     },
     "metadata": {},
     "output_type": "display_data"
    },
    {
     "data": {
      "image/png": "[encoded data removed]",
      "text/plain": [
       "<matplotlib.figure.Figure at 0x16584bebef0>"
      ]
     },
     "metadata": {},
     "output_type": "display_data"
    }
   ],
   "source": [
    "# graph representatoin\n",
    "plt.scatter(np.arange(count),delta1)\n",
    "plt.title('graphs')\n",
    "plt.xlabel('Weight')\n",
    "plt.ylabel('count')\n",
    "plt.show()\n",
    "plt.scatter(np.arange(count),Weight0)\n",
    "plt.show()\n",
    "plt.scatter(np.arange(count),Weight1)\n",
    "plt.show()\n",
    "plt.scatter(np.arange(count),Weight2)\n",
    "plt.show()\n",
    "plt.scatter(np.arange(count),Weight3)\n",
    "plt.show()\n",
    "plt.scatter(np.arange(count),Weight4)\n",
    "plt.show()\n",
    "plt.scatter(np.arange(count),Weight5)\n",
    "plt.show()"
   ]
  },
  {
   "cell_type": "markdown",
   "metadata": {},
   "source": [
    "### conclusion- As our code shows we have got that close form(solution) and gradient descent both are save ,Now as per guideline we have to find what is time  taken by close for and gradient descent  and the solution match of gradient descent and close form algo"
   ]
  },
  {
   "cell_type": "markdown",
   "metadata": {},
   "source": [
    "#### Time for close form-468862056732177 ,time for gradient descent-3033485412597656 ,which algo take less time :-(468862056732177)-(3033485412597656)      time=16552321345332"
   ]
  },
  {
   "cell_type": "markdown",
   "metadata": {},
   "source": [
    "#### Fact= gradient descent algoritham  takes less time than close form "
   ]
  },
  {
   "cell_type": "code",
   "execution_count": null,
   "metadata": {},
   "outputs": [],
   "source": []
  }
 ],
 "metadata": {
  "kernelspec": {
   "display_name": "Python 3",
   "language": "python",
   "name": "python3"
  },
  "language_info": {
   "codemirror_mode": {
    "name": "ipython",
    "version": 3
   },
   "file_extension": ".py",
   "mimetype": "text/x-python",
   "name": "python",
   "nbconvert_exporter": "python",
   "pygments_lexer": "ipython3",
   "version": "3.6.4"
  }
 },
 "nbformat": 4,
 "nbformat_minor": 2
}
